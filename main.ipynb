{
 "cells": [
  {
   "cell_type": "markdown",
   "metadata": {},
   "source": [
    "https://dacon.io/competitions/official/235747/codeshare/3054?page=1&dtype=recent"
   ]
  },
  {
   "cell_type": "code",
   "execution_count": 1,
   "metadata": {},
   "outputs": [],
   "source": [
    "import pandas as pd\n",
    "import os "
   ]
  },
  {
   "cell_type": "markdown",
   "metadata": {},
   "source": [
    "# Preprocessing"
   ]
  },
  {
   "cell_type": "code",
   "execution_count": 3,
   "metadata": {},
   "outputs": [],
   "source": [
    "PATH = './dataset/'"
   ]
  },
  {
   "cell_type": "code",
   "execution_count": 4,
   "metadata": {},
   "outputs": [],
   "source": [
    "train_data = pd.read_csv(os.path.join(PATH, 'train_data.csv'), encoding='utf-8')\n",
    "test_data = pd.read_csv(os.path.join(PATH, 'test_data.csv'), encoding='utf-8')\n",
    "\n",
    "topic_dict = pd.read_csv(os.path.join(PATH, 'topic_dict.csv'), encoding='utf-8')"
   ]
  },
  {
   "cell_type": "code",
   "execution_count": 5,
   "metadata": {},
   "outputs": [],
   "source": [
    "train_data = train_data.drop('index', axis=1)\n",
    "test_data = test_data.drop('index', axis=1)"
   ]
  },
  {
   "cell_type": "code",
   "execution_count": 6,
   "metadata": {},
   "outputs": [
    {
     "data": {
      "text/html": [
       "<div>\n",
       "<style scoped>\n",
       "    .dataframe tbody tr th:only-of-type {\n",
       "        vertical-align: middle;\n",
       "    }\n",
       "\n",
       "    .dataframe tbody tr th {\n",
       "        vertical-align: top;\n",
       "    }\n",
       "\n",
       "    .dataframe thead th {\n",
       "        text-align: right;\n",
       "    }\n",
       "</style>\n",
       "<table border=\"1\" class=\"dataframe\">\n",
       "  <thead>\n",
       "    <tr style=\"text-align: right;\">\n",
       "      <th></th>\n",
       "      <th>title</th>\n",
       "      <th>topic_idx</th>\n",
       "    </tr>\n",
       "  </thead>\n",
       "  <tbody>\n",
       "    <tr>\n",
       "      <th>0</th>\n",
       "      <td>인천→핀란드 항공기 결항…휴가철 여행객 분통</td>\n",
       "      <td>4</td>\n",
       "    </tr>\n",
       "    <tr>\n",
       "      <th>1</th>\n",
       "      <td>실리콘밸리 넘어서겠다…구글 15조원 들여 美전역 거점화</td>\n",
       "      <td>4</td>\n",
       "    </tr>\n",
       "    <tr>\n",
       "      <th>2</th>\n",
       "      <td>이란 외무 긴장완화 해결책은 미국이 경제전쟁 멈추는 것</td>\n",
       "      <td>4</td>\n",
       "    </tr>\n",
       "    <tr>\n",
       "      <th>3</th>\n",
       "      <td>NYT 클린턴 측근韓기업 특수관계 조명…공과 사 맞물려종합</td>\n",
       "      <td>4</td>\n",
       "    </tr>\n",
       "    <tr>\n",
       "      <th>4</th>\n",
       "      <td>시진핑 트럼프에 중미 무역협상 조속 타결 희망</td>\n",
       "      <td>4</td>\n",
       "    </tr>\n",
       "    <tr>\n",
       "      <th>...</th>\n",
       "      <td>...</td>\n",
       "      <td>...</td>\n",
       "    </tr>\n",
       "    <tr>\n",
       "      <th>45649</th>\n",
       "      <td>KB금융 미국 IB 스티펠과 제휴…선진국 시장 공략</td>\n",
       "      <td>1</td>\n",
       "    </tr>\n",
       "    <tr>\n",
       "      <th>45650</th>\n",
       "      <td>1보 서울시교육청 신종코로나 확산에 개학 연기·휴업 검토</td>\n",
       "      <td>2</td>\n",
       "    </tr>\n",
       "    <tr>\n",
       "      <th>45651</th>\n",
       "      <td>게시판 키움증권 2020 키움 영웅전 실전투자대회</td>\n",
       "      <td>1</td>\n",
       "    </tr>\n",
       "    <tr>\n",
       "      <th>45652</th>\n",
       "      <td>답변하는 배기동 국립중앙박물관장</td>\n",
       "      <td>2</td>\n",
       "    </tr>\n",
       "    <tr>\n",
       "      <th>45653</th>\n",
       "      <td>2020 한국인터넷기자상 시상식 내달 1일 개최…특별상 김성후</td>\n",
       "      <td>2</td>\n",
       "    </tr>\n",
       "  </tbody>\n",
       "</table>\n",
       "<p>45654 rows × 2 columns</p>\n",
       "</div>"
      ],
      "text/plain": [
       "                                    title  topic_idx\n",
       "0                인천→핀란드 항공기 결항…휴가철 여행객 분통          4\n",
       "1          실리콘밸리 넘어서겠다…구글 15조원 들여 美전역 거점화          4\n",
       "2          이란 외무 긴장완화 해결책은 미국이 경제전쟁 멈추는 것          4\n",
       "3        NYT 클린턴 측근韓기업 특수관계 조명…공과 사 맞물려종합          4\n",
       "4               시진핑 트럼프에 중미 무역협상 조속 타결 희망          4\n",
       "...                                   ...        ...\n",
       "45649        KB금융 미국 IB 스티펠과 제휴…선진국 시장 공략          1\n",
       "45650     1보 서울시교육청 신종코로나 확산에 개학 연기·휴업 검토          2\n",
       "45651         게시판 키움증권 2020 키움 영웅전 실전투자대회          1\n",
       "45652                   답변하는 배기동 국립중앙박물관장          2\n",
       "45653  2020 한국인터넷기자상 시상식 내달 1일 개최…특별상 김성후          2\n",
       "\n",
       "[45654 rows x 2 columns]"
      ]
     },
     "execution_count": 6,
     "metadata": {},
     "output_type": "execute_result"
    }
   ],
   "source": [
    "train_data"
   ]
  },
  {
   "cell_type": "markdown",
   "metadata": {},
   "source": [
    "# Make Dataset, DataLoader"
   ]
  },
  {
   "cell_type": "code",
   "execution_count": 49,
   "metadata": {},
   "outputs": [],
   "source": [
    "# from eunjeon import Mecab\n",
    "# from kobert_tokenizer import KoBERTTokenizer\n",
    "from transformers import AutoTokenizer\n",
    "import tqdm as tqdm\n",
    "import numpy as np\n",
    "\n",
    "import torch"
   ]
  },
  {
   "cell_type": "code",
   "execution_count": 24,
   "metadata": {},
   "outputs": [],
   "source": [
    "# tokenizer = KoBERTTokenizer.from_pretrained('skt/kobert-base-v1')\n",
    "tokenizer = AutoTokenizer.from_pretrained(\"klue/roberta-large\")"
   ]
  },
  {
   "cell_type": "code",
   "execution_count": 43,
   "metadata": {},
   "outputs": [
    {
     "data": {
      "text/plain": [
       "29"
      ]
     },
     "execution_count": 43,
     "metadata": {},
     "output_type": "execute_result"
    }
   ],
   "source": [
    "MAX_LEN = 0\n",
    "\n",
    "for d in train_data['title']:\n",
    "    td = tokenizer.encode(d)\n",
    "    if MAX_LEN < len(td):\n",
    "        MAX_LEN = len(td)\n",
    "\n",
    "MAX_LEN"
   ]
  },
  {
   "cell_type": "code",
   "execution_count": 32,
   "metadata": {},
   "outputs": [
    {
     "data": {
      "text/plain": [
       "'인천→핀란드 항공기 결항…휴가철 여행객 분통'"
      ]
     },
     "execution_count": 32,
     "metadata": {},
     "output_type": "execute_result"
    }
   ],
   "source": [
    "train_data['title'][0]"
   ]
  },
  {
   "cell_type": "code",
   "execution_count": 45,
   "metadata": {},
   "outputs": [],
   "source": [
    "# data를 token과 label로 분리해 numpy로 반환해준다.\n",
    "def convert_data(tokenizer, data_df, case):\n",
    "    tokens, masks, segments, targets = [], [], [], []\n",
    "    \n",
    "    for i in tqdm(range(len(data_df))):\n",
    "        # tokenize\n",
    "        token = tokenizer.encode(data_df['title'][i], max_length=MAX_LEN, padding='max_length', truncation=True)[1:-1]\n",
    "        \n",
    "        # making segment\n",
    "        # segment = [0]*MAX_LEN\n",
    "        \n",
    "        # token, segment\n",
    "        tokens.append(token)\n",
    "        # segments.append(segments)\n",
    "        \n",
    "        if case == 'train':\n",
    "            targets.append(data_df['topic_idx'][i])\n",
    "    \n",
    "    tokens = np.array(tokens)\n",
    "    \n",
    "    if case == 'train':\n",
    "        targets = np.array(targets)\n",
    "        \n",
    "        return [tokens, segments], targets\n",
    "    \n",
    "    return [tokens, segments],\n",
    "    "
   ]
  },
  {
   "cell_type": "code",
   "execution_count": 50,
   "metadata": {},
   "outputs": [],
   "source": [
    "from torch.utils.data import Dataset, DataLoader\n",
    "\n",
    "class CustomDataset(Dataset):\n",
    "    def __init__(self, csv_path, tokenizer):\n",
    "        self.data = pd.read_csv(csv_path)\n",
    "        self.tokenizer = tokenizer\n",
    "    \n",
    "    def __len__(self):\n",
    "        return len(self.data)\n",
    "\n",
    "    def __getitem_(self, idx):\n",
    "        context = tokenizer.encode(self.data['title'][idx])[1:-1]\n",
    "        label = int(self.data['topic_idx'][idx])\n",
    "        \n",
    "        context = torch.Tensor(context)\n",
    "        label = torch.Tensor(label)\n",
    "        \n",
    "        return context, label"
   ]
  },
  {
   "cell_type": "code",
   "execution_count": 47,
   "metadata": {},
   "outputs": [],
   "source": [
    "BATCH_SIZE = 64\n",
    "\n",
    "# get tokenizer\n",
    "tokenizer = AutoTokenizer.from_pretrained(\"klue/roberta-large\")\n",
    "\n",
    "# make dataset\n",
    "train_dataset = CustomDataset('./dataset/train_data.csv', tokenizer=tokenizer)\n",
    "train_loader = DataLoader(train_dataset, batch_size=BATCH_SIZE, shuffle=True)\n",
    "\n",
    "test_dataset = CustomDataset('./dataset/test_data.csv', tokenizer=tokenizer)\n",
    "test_loader = DataLoader(test_dataset, batch_size=BATCH_SIZE, shuffle=True)"
   ]
  },
  {
   "cell_type": "markdown",
   "metadata": {},
   "source": [
    "# Build Model"
   ]
  },
  {
   "cell_type": "markdown",
   "metadata": {},
   "source": [
    "transformer 의 encdoer n개를 통과시켜 Affine Layer을 지나는 model이다.\n",
    "\n",
    "- d_model = 512\n",
    "- d_word_vec = 512\n",
    "- n_layers = 6\n",
    "- n_head = 8\n",
    "- d_inner = 2048\n",
    "- dropout = 0.1\n",
    "- n_position = 50\n",
    "- pad_idx = "
   ]
  },
  {
   "cell_type": "code",
   "execution_count": 79,
   "metadata": {},
   "outputs": [
    {
     "data": {
      "text/plain": [
       "1"
      ]
     },
     "execution_count": 79,
     "metadata": {},
     "output_type": "execute_result"
    }
   ],
   "source": [
    "tokenizer.vocab['[PAD]']"
   ]
  },
  {
   "cell_type": "code",
   "execution_count": 80,
   "metadata": {},
   "outputs": [],
   "source": [
    "def get_pad_mask(seq, pad_idx):\n",
    "    return (seq != pad_idx).unsqueeze(-2)"
   ]
  },
  {
   "cell_type": "code",
   "execution_count": null,
   "metadata": {},
   "outputs": [],
   "source": [
    "from torch import nn\n",
    "from model.Models import Encoder\n",
    "\n",
    "class Naroho(nn.Module):\n",
    "    \n",
    "    def __init__(self, n_vocab, pad_idx, d_word_vec=512, d_model=512, d_inner=2048,\n",
    "                 n_layers=6, n_head=8, d_k=64, dropout=0.1, n_position=50):\n",
    "        super().__init__()\n",
    "        self.encoder = Encoder(n_src_vocab=n_vocab, d_word_vec=d_word_vec, n_layers=n_layers, \n",
    "                               n_head=n_head, d_k=d_k, d_v=d_k, d_model=d_model, pad_idx=pad_idx,\n",
    "                               dropout=dropout, n_position=n_position, scale_emb=False)\n",
    "        self.linear = nn.Linear(d_model,n_vocab,bias=False)\n",
    "        \n",
    "        self.pad_idx = pad_idx\n",
    "    \n",
    "    def forward(self, context):\n",
    "\n",
    "        mask = get_pad_mask(context, self.pad_idx)\n",
    "        \n",
    "        enc_output, *_ = self.encoder(context, mask)\n",
    "        seq_logit = self.linear(enc_output)"
   ]
  }
 ],
 "metadata": {
  "kernelspec": {
   "display_name": "Python 3.8.12 ('Ethics-Korean')",
   "language": "python",
   "name": "python3"
  },
  "language_info": {
   "codemirror_mode": {
    "name": "ipython",
    "version": 3
   },
   "file_extension": ".py",
   "mimetype": "text/x-python",
   "name": "python",
   "nbconvert_exporter": "python",
   "pygments_lexer": "ipython3",
   "version": "3.8.12"
  },
  "orig_nbformat": 4,
  "vscode": {
   "interpreter": {
    "hash": "d7b8a9d296651b950055feafaab8f47ff1cee70807e6c570958d0b27d2589bac"
   }
  }
 },
 "nbformat": 4,
 "nbformat_minor": 2
}
